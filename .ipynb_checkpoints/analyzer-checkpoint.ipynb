{
 "cells": [
  {
   "cell_type": "code",
   "execution_count": 1,
   "metadata": {},
   "outputs": [],
   "source": [
    "import os\n",
    "import datetime\n",
    "import pandas as pd\n",
    "import matplotlib.pyplot as plt\n"
   ]
  },
  {
   "cell_type": "code",
   "execution_count": 2,
   "metadata": {},
   "outputs": [],
   "source": [
    "# participants info\n",
    "\n",
    "users = {'participant_1': {'treatment_start': '2018-04-26 00:00:00', 'treatment_end': '2018-04-29 23:59:59'},\n",
    "         'participant_2': {'treatment_start': '2018-04-26 00:00:00', 'treatment_end': '2018-04-29 23:59:59'},\n",
    "         'participant_3': {'treatment_start': '2018-04-25 00:00:00', 'treatment_end': '2018-04-29 23:59:59'},\n",
    "         'participant_4': {'treatment_start': '2018-04-25 00:00:00', 'treatment_end': '2018-04-28 23:59:59'},\n",
    "         'participant_5': {'treatment_start': '2018-04-25 00:00:00', 'treatment_end': '2018-04-28 23:59:59'},\n",
    "         'participant_6': {'treatment_start': '2018-04-30 00:00:00', 'treatment_end': '2018-05-03 23:59:59'}}\n",
    "\n",
    "user = 'participant_1'\n",
    "treatment_start = users[user]['treatment_start']\n",
    "treatment_end = users[user]['treatment_end']\n"
   ]
  },
  {
   "cell_type": "code",
   "execution_count": 3,
   "metadata": {
    "scrolled": true
   },
   "outputs": [],
   "source": [
    "data = []\n",
    "\n",
    "for log_file in os.listdir(user + '/log'):\n",
    "    if log_file.startswith('2018'):\n",
    "        with open('./' + user + '/log/' + log_file, 'r') as f:\n",
    "            data.extend(f.read().splitlines())\n",
    "\n",
    "#     print len(data), 'requests', '\\n'\n",
    "#     print data[:5]\n"
   ]
  },
  {
   "cell_type": "code",
   "execution_count": 4,
   "metadata": {
    "scrolled": true
   },
   "outputs": [
    {
     "data": {
      "text/html": [
       "<div>\n",
       "<style scoped>\n",
       "    .dataframe tbody tr th:only-of-type {\n",
       "        vertical-align: middle;\n",
       "    }\n",
       "\n",
       "    .dataframe tbody tr th {\n",
       "        vertical-align: top;\n",
       "    }\n",
       "\n",
       "    .dataframe thead th {\n",
       "        text-align: right;\n",
       "    }\n",
       "</style>\n",
       "<table border=\"1\" class=\"dataframe\">\n",
       "  <thead>\n",
       "    <tr style=\"text-align: right;\">\n",
       "      <th></th>\n",
       "      <th>time</th>\n",
       "      <th>status</th>\n",
       "      <th>domain</th>\n",
       "      <th>url</th>\n",
       "    </tr>\n",
       "  </thead>\n",
       "  <tbody>\n",
       "    <tr>\n",
       "      <th>0</th>\n",
       "      <td>2018-05-02 15:37:51</td>\n",
       "      <td>Accept</td>\n",
       "      <td></td>\n",
       "      <td></td>\n",
       "    </tr>\n",
       "    <tr>\n",
       "      <th>1</th>\n",
       "      <td>2018-05-02 15:38:51</td>\n",
       "      <td>Accept</td>\n",
       "      <td></td>\n",
       "      <td></td>\n",
       "    </tr>\n",
       "    <tr>\n",
       "      <th>2</th>\n",
       "      <td>2018-05-02 15:39:28</td>\n",
       "      <td>Accept</td>\n",
       "      <td></td>\n",
       "      <td></td>\n",
       "    </tr>\n",
       "    <tr>\n",
       "      <th>3</th>\n",
       "      <td>2018-05-02 15:39:40</td>\n",
       "      <td>Accept</td>\n",
       "      <td></td>\n",
       "      <td></td>\n",
       "    </tr>\n",
       "    <tr>\n",
       "      <th>4</th>\n",
       "      <td>2018-05-02 15:39:52</td>\n",
       "      <td>Accept</td>\n",
       "      <td></td>\n",
       "      <td></td>\n",
       "    </tr>\n",
       "  </tbody>\n",
       "</table>\n",
       "</div>"
      ],
      "text/plain": [
       "                 time  status domain url\n",
       "0 2018-05-02 15:37:51  Accept           \n",
       "1 2018-05-02 15:38:51  Accept           \n",
       "2 2018-05-02 15:39:28  Accept           \n",
       "3 2018-05-02 15:39:40  Accept           \n",
       "4 2018-05-02 15:39:52  Accept           "
      ]
     },
     "execution_count": 4,
     "metadata": {},
     "output_type": "execute_result"
    }
   ],
   "source": [
    "df = pd.DataFrame(record.split(',') for record in data)\n",
    "df.columns = ['status', 'time', 'domain', 'url']\n",
    "df = df[['time', 'status', 'domain', 'url']]\n",
    "df.time = pd.to_datetime(df.time, unit='s')\n",
    "df.head(5)\n"
   ]
  },
  {
   "cell_type": "code",
   "execution_count": 5,
   "metadata": {},
   "outputs": [],
   "source": [
    "def genDates(treatment_start, treatment_end):\n",
    "    \n",
    "    start = datetime.datetime.strptime(treatment_start, \"%Y-%m-%d %H:%M:%S\")\n",
    "    end = datetime.datetime.strptime(treatment_end, \"%Y-%m-%d %H:%M:%S\")\n",
    "    duration = (end - start).days + 1\n",
    "    dates = []\n",
    "    dates_obj = []\n",
    "\n",
    "    for i in xrange(duration):\n",
    "        date_obj = start + datetime.timedelta(days=i)\n",
    "        dates_obj.append(date_obj)\n",
    "        \n",
    "        date = str(date_obj.date())\n",
    "        dates.append(date)\n",
    "        \n",
    "    return dates_obj, dates\n"
   ]
  },
  {
   "cell_type": "code",
   "execution_count": 6,
   "metadata": {},
   "outputs": [],
   "source": [
    "def dailyRejRate(start_time_obj):\n",
    "    \n",
    "    end_time_obj = start_time_obj + datetime.timedelta(days=1)\n",
    "    start_time, end_time = str(start_time_obj), str(end_time_obj)\n",
    "    \n",
    "    acc = df[(df['time'] >= start_time) & \\\n",
    "             (df['time'] < end_time) & \\\n",
    "             (df['status'] == 'Accept')]\n",
    "    rej = df[(df['time'] >= start_time) & \\\n",
    "             (df['time'] < end_time) & \\\n",
    "             (df['status'] == 'Reject')]\n",
    "    acc_count, rej_count = len(acc), len(rej)\n",
    "    \n",
    "    if len(acc) + len(rej) > 0:\n",
    "        rej_rate = float(rej_count) / (acc_count + rej_count)\n",
    "        return round(rej_rate, 4)\n",
    "    else:\n",
    "        return 0\n"
   ]
  },
  {
   "cell_type": "code",
   "execution_count": 7,
   "metadata": {},
   "outputs": [],
   "source": [
    "before_acc = df[(df['time'] < treatment_start) & (df['status'] == 'Accept')]\n",
    "before_rej = df[(df['time'] < treatment_start) & (df['status'] == 'Reject')]\n",
    "before_acc_count = len(before_acc)\n",
    "before_rej_count = len(before_rej)\n",
    "before_rej_rate = float(before_rej_count) / (before_acc_count + before_rej_count)\n",
    "\n",
    "during_acc = df[(df['time'] >= treatment_start) & \\\n",
    "                (df['time'] <= treatment_end) & \\\n",
    "                (df['status'] == 'Accept')]\n",
    "during_rej = df[(df['time'] >= treatment_start) & \\\n",
    "                (df['time'] <= treatment_end) & \\\n",
    "                (df['status'] == 'Reject')]\n",
    "during_acc_count = len(during_acc)\n",
    "during_rej_count = len(during_rej)\n",
    "during_rej_rate = float(during_rej_count) / (during_acc_count + during_rej_count)\n",
    "\n",
    "treatment_dates_obj, treatment_dates = genDates(treatment_start, treatment_end)\n",
    "during_daily_rej_rates = [dailyRejRate(date_obj) for date_obj in treatment_dates_obj]\n",
    "\n",
    "after_acc = df[(df['time'] > treatment_end) & (df['status'] == 'Accept')]\n",
    "after_rej = df[(df['time'] > treatment_end) & (df['status'] == 'Reject')]\n",
    "after_acc_count = len(after_acc)\n",
    "after_rej_count = len(after_rej)\n",
    "after_rej_rate = float(after_rej_count) / (after_acc_count + after_rej_count) \\\n",
    "                 if (after_acc_count + after_rej_count) > 0 \\\n",
    "                 else 0\n"
   ]
  },
  {
   "cell_type": "code",
   "execution_count": 8,
   "metadata": {},
   "outputs": [
    {
     "name": "stdout",
     "output_type": "stream",
     "text": [
      "Before treatment: accept 5670\n",
      "Before treatment: reject 644\n",
      "Before treatment: total 6314\n",
      "Before treatment: reject/total 0.102 \n",
      "\n",
      "During treatment: accept 698\n",
      "During treatment: reject 24\n",
      "During treatment: total 722\n",
      "During treatment: reject/total 0.0332\n",
      "During treatment: daily rejection rates [0.0343, 0.0275, 0, 0] \n",
      "\n",
      "After treatment: accept 1665\n",
      "After treatment: reject 8\n",
      "After treatment: total 1673\n",
      "After treatment: reject/total 0.0048 \n",
      "\n",
      "Total requests: 8709\n",
      "Total requests validated: True\n"
     ]
    }
   ],
   "source": [
    "print 'Before treatment: accept', before_acc_count\n",
    "print 'Before treatment: reject', before_rej_count\n",
    "print 'Before treatment: total', before_acc_count + before_rej_count\n",
    "print 'Before treatment: reject/total', round(before_rej_rate, 4), '\\n'\n",
    "\n",
    "print 'During treatment: accept', during_acc_count\n",
    "print 'During treatment: reject', during_rej_count\n",
    "print 'During treatment: total', during_acc_count + during_rej_count\n",
    "print 'During treatment: reject/total', round(during_rej_rate, 4)\n",
    "print 'During treatment: daily rejection rates', during_daily_rej_rates, '\\n'\n",
    "\n",
    "print 'After treatment: accept', after_acc_count\n",
    "print 'After treatment: reject', after_rej_count\n",
    "print 'After treatment: total', after_acc_count + after_rej_count\n",
    "print 'After treatment: reject/total', round(after_rej_rate, 4), '\\n'\n",
    "\n",
    "print 'Total requests:', len(df)\n",
    "print 'Total requests validated:', len(df) == sum([before_acc_count, \\\n",
    "                                                   before_rej_count, \\\n",
    "                                                   during_acc_count, \\\n",
    "                                                   during_rej_count, \\\n",
    "                                                   after_acc_count, \\\n",
    "                                                   after_rej_count])\n"
   ]
  },
  {
   "cell_type": "code",
   "execution_count": 9,
   "metadata": {},
   "outputs": [
    {
     "data": {
      "image/png": "[encoded data removed]",
      "text/plain": [
       "<Figure size 1008x432 with 2 Axes>"
      ]
     },
     "metadata": {},
     "output_type": "display_data"
    }
   ],
   "source": [
    "fig = plt.figure(figsize=(14, 6))\n",
    "y_range = (0, max([before_rej_rate, after_rej_rate] + during_daily_rej_rates) * 1.2)\n",
    "\n",
    "plt.subplot(1, 2, 1)\n",
    "plt.title('Rejection Rate: Before & After Treatment')\n",
    "plt.bar(['Before', 'After'], [before_rej_rate, after_rej_rate])\n",
    "plt.ylabel('Rejection Rate')\n",
    "plt.ylim(y_range)\n",
    "\n",
    "plt.subplot(1, 2, 2)\n",
    "plt.title('Rejection Rate: During Treatment')\n",
    "plt.bar(treatment_dates, during_daily_rej_rates)\n",
    "plt.xlabel('Treatment Dates')\n",
    "plt.ylabel('Rejection Rate')\n",
    "plt.ylim(y_range)\n",
    "\n",
    "plt.savefig(user + '.png')\n",
    "plt.show()\n"
   ]
  },
  {
   "cell_type": "raw",
   "metadata": {},
   "source": []
  },
  {
   "cell_type": "code",
   "execution_count": null,
   "metadata": {},
   "outputs": [],
   "source": []
  }
 ],
 "metadata": {
  "kernelspec": {
   "display_name": "Python 2",
   "language": "python",
   "name": "python2"
  },
  "language_info": {
   "codemirror_mode": {
    "name": "ipython",
    "version": 2
   },
   "file_extension": ".py",
   "mimetype": "text/x-python",
   "name": "python",
   "nbconvert_exporter": "python",
   "pygments_lexer": "ipython2",
   "version": "2.7.14"
  }
 },
 "nbformat": 4,
 "nbformat_minor": 2
}
